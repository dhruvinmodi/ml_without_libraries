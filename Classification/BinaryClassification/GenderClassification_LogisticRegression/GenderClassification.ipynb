{
 "cells": [
  {
   "cell_type": "markdown",
   "id": "pregnant-transsexual",
   "metadata": {},
   "source": [
    "# Gender classification model through Logistic regression"
   ]
  },
  {
   "cell_type": "markdown",
   "id": "technological-colleague",
   "metadata": {},
   "source": [
    "## When to use logistic regression\n",
    "    - To solve **binary** classification problem. (It can be used for multiclass also but tedious job)\n",
    "## Asumtions\n",
    "    - There should not be outliers in datset. If exsit then remove it. Boxplot canbe used to identify outliers.\n",
    "    - The correlation **among independent variable** should not be high(Ideally it should be < .9). Correlation matrix canbe used to identify highly correlated independent variables.\n",
    "## How to test goodness of fit?\n",
    "    - Rsquare value (It is contravercial, It may work ormay not sometimes)\n",
    "    - HL test(Hosmer-Lemeshow : Works for Binary logistic regression only)\n",
    "    - Confusion matrix\n",
    "    \n",
    "### HL-test\n",
    "    - HL test is a collection of three values.\n",
    "        1. Chi-square\n",
    "        2. DF\n",
    "        3. P-value\n",
    "    - for good fit,\n",
    "        Chi-square should be less and p-value near to 1 represents good logistic regression model fit\n",
    "    "
   ]
  },
  {
   "cell_type": "markdown",
   "id": "flexible-fisher",
   "metadata": {},
   "source": [
    "#### Importing libraries"
   ]
  },
  {
   "cell_type": "code",
   "execution_count": 1,
   "id": "nuclear-furniture",
   "metadata": {},
   "outputs": [],
   "source": [
    "import pandas as pd\n",
    "import numpy as np\n",
    "from sklearn.metrics import classification_report\n",
    "from sklearn.metrics import accuracy_score"
   ]
  },
  {
   "cell_type": "markdown",
   "id": "green-proof",
   "metadata": {},
   "source": [
    "#### Reading dataset"
   ]
  },
  {
   "cell_type": "code",
   "execution_count": 2,
   "id": "respiratory-awareness",
   "metadata": {},
   "outputs": [
    {
     "data": {
      "text/html": [
       "<div>\n",
       "<style scoped>\n",
       "    .dataframe tbody tr th:only-of-type {\n",
       "        vertical-align: middle;\n",
       "    }\n",
       "\n",
       "    .dataframe tbody tr th {\n",
       "        vertical-align: top;\n",
       "    }\n",
       "\n",
       "    .dataframe thead th {\n",
       "        text-align: right;\n",
       "    }\n",
       "</style>\n",
       "<table border=\"1\" class=\"dataframe\">\n",
       "  <thead>\n",
       "    <tr style=\"text-align: right;\">\n",
       "      <th></th>\n",
       "      <th>Favorite Color</th>\n",
       "      <th>Favorite Music Genre</th>\n",
       "      <th>Favorite Beverage</th>\n",
       "      <th>Favorite Soft Drink</th>\n",
       "      <th>Gender</th>\n",
       "    </tr>\n",
       "  </thead>\n",
       "  <tbody>\n",
       "    <tr>\n",
       "      <th>0</th>\n",
       "      <td>Cool</td>\n",
       "      <td>Rock</td>\n",
       "      <td>Vodka</td>\n",
       "      <td>7UP/Sprite</td>\n",
       "      <td>F</td>\n",
       "    </tr>\n",
       "    <tr>\n",
       "      <th>1</th>\n",
       "      <td>Neutral</td>\n",
       "      <td>Hip hop</td>\n",
       "      <td>Vodka</td>\n",
       "      <td>Coca Cola/Pepsi</td>\n",
       "      <td>F</td>\n",
       "    </tr>\n",
       "    <tr>\n",
       "      <th>2</th>\n",
       "      <td>Warm</td>\n",
       "      <td>Rock</td>\n",
       "      <td>Wine</td>\n",
       "      <td>Coca Cola/Pepsi</td>\n",
       "      <td>F</td>\n",
       "    </tr>\n",
       "    <tr>\n",
       "      <th>3</th>\n",
       "      <td>Warm</td>\n",
       "      <td>Folk/Traditional</td>\n",
       "      <td>Whiskey</td>\n",
       "      <td>Fanta</td>\n",
       "      <td>F</td>\n",
       "    </tr>\n",
       "    <tr>\n",
       "      <th>4</th>\n",
       "      <td>Cool</td>\n",
       "      <td>Rock</td>\n",
       "      <td>Vodka</td>\n",
       "      <td>Coca Cola/Pepsi</td>\n",
       "      <td>F</td>\n",
       "    </tr>\n",
       "  </tbody>\n",
       "</table>\n",
       "</div>"
      ],
      "text/plain": [
       "  Favorite Color Favorite Music Genre Favorite Beverage Favorite Soft Drink  \\\n",
       "0           Cool                 Rock             Vodka          7UP/Sprite   \n",
       "1        Neutral              Hip hop             Vodka     Coca Cola/Pepsi   \n",
       "2           Warm                 Rock              Wine     Coca Cola/Pepsi   \n",
       "3           Warm     Folk/Traditional           Whiskey               Fanta   \n",
       "4           Cool                 Rock             Vodka     Coca Cola/Pepsi   \n",
       "\n",
       "  Gender  \n",
       "0      F  \n",
       "1      F  \n",
       "2      F  \n",
       "3      F  \n",
       "4      F  "
      ]
     },
     "execution_count": 2,
     "metadata": {},
     "output_type": "execute_result"
    }
   ],
   "source": [
    "df = pd.read_csv('./dataset/dataset.csv')\n",
    "df.head()"
   ]
  },
  {
   "cell_type": "markdown",
   "id": "exciting-pennsylvania",
   "metadata": {},
   "source": [
    "#### Category encoding"
   ]
  },
  {
   "cell_type": "code",
   "execution_count": 3,
   "id": "normal-insurance",
   "metadata": {},
   "outputs": [
    {
     "name": "stdout",
     "output_type": "stream",
     "text": [
      "{'Favorite Color': {0: 'Cool', 1: 'Neutral', 2: 'Warm'}, 'Favorite Music Genre': {0: 'Electronic', 1: 'Folk/Traditional', 2: 'Hip hop', 3: 'Jazz/Blues', 4: 'Pop', 5: 'R&B and soul', 6: 'Rock'}, 'Favorite Beverage': {0: 'Beer', 1: \"Doesn't drink\", 2: 'Other', 3: 'Vodka', 4: 'Whiskey', 5: 'Wine'}, 'Favorite Soft Drink': {0: '7UP/Sprite', 1: 'Coca Cola/Pepsi', 2: 'Fanta', 3: 'Other'}, 'Gender': {0: 'F', 1: 'M'}}\n"
     ]
    },
    {
     "data": {
      "text/html": [
       "<div>\n",
       "<style scoped>\n",
       "    .dataframe tbody tr th:only-of-type {\n",
       "        vertical-align: middle;\n",
       "    }\n",
       "\n",
       "    .dataframe tbody tr th {\n",
       "        vertical-align: top;\n",
       "    }\n",
       "\n",
       "    .dataframe thead th {\n",
       "        text-align: right;\n",
       "    }\n",
       "</style>\n",
       "<table border=\"1\" class=\"dataframe\">\n",
       "  <thead>\n",
       "    <tr style=\"text-align: right;\">\n",
       "      <th></th>\n",
       "      <th>Favorite Color</th>\n",
       "      <th>Favorite Music Genre</th>\n",
       "      <th>Favorite Beverage</th>\n",
       "      <th>Favorite Soft Drink</th>\n",
       "      <th>Gender</th>\n",
       "    </tr>\n",
       "  </thead>\n",
       "  <tbody>\n",
       "    <tr>\n",
       "      <th>0</th>\n",
       "      <td>0</td>\n",
       "      <td>6</td>\n",
       "      <td>3</td>\n",
       "      <td>0</td>\n",
       "      <td>0</td>\n",
       "    </tr>\n",
       "    <tr>\n",
       "      <th>1</th>\n",
       "      <td>1</td>\n",
       "      <td>2</td>\n",
       "      <td>3</td>\n",
       "      <td>1</td>\n",
       "      <td>0</td>\n",
       "    </tr>\n",
       "    <tr>\n",
       "      <th>2</th>\n",
       "      <td>2</td>\n",
       "      <td>6</td>\n",
       "      <td>5</td>\n",
       "      <td>1</td>\n",
       "      <td>0</td>\n",
       "    </tr>\n",
       "    <tr>\n",
       "      <th>3</th>\n",
       "      <td>2</td>\n",
       "      <td>1</td>\n",
       "      <td>4</td>\n",
       "      <td>2</td>\n",
       "      <td>0</td>\n",
       "    </tr>\n",
       "    <tr>\n",
       "      <th>4</th>\n",
       "      <td>0</td>\n",
       "      <td>6</td>\n",
       "      <td>3</td>\n",
       "      <td>1</td>\n",
       "      <td>0</td>\n",
       "    </tr>\n",
       "  </tbody>\n",
       "</table>\n",
       "</div>"
      ],
      "text/plain": [
       "   Favorite Color  Favorite Music Genre  Favorite Beverage  \\\n",
       "0               0                     6                  3   \n",
       "1               1                     2                  3   \n",
       "2               2                     6                  5   \n",
       "3               2                     1                  4   \n",
       "4               0                     6                  3   \n",
       "\n",
       "   Favorite Soft Drink  Gender  \n",
       "0                    0       0  \n",
       "1                    1       0  \n",
       "2                    1       0  \n",
       "3                    2       0  \n",
       "4                    1       0  "
      ]
     },
     "execution_count": 3,
     "metadata": {},
     "output_type": "execute_result"
    }
   ],
   "source": [
    "mapping_dict = {}\n",
    "for each_column in df.columns:\n",
    "    df[each_column] = df[each_column].astype('category')\n",
    "    mapping_dict[each_column] = dict(enumerate(df[each_column].cat.categories))\n",
    "    df[each_column] = df[each_column].cat.codes\n",
    "print(mapping_dict)\n",
    "df.head()"
   ]
  },
  {
   "cell_type": "markdown",
   "id": "numerous-ready",
   "metadata": {},
   "source": [
    "#### Spliting data"
   ]
  },
  {
   "cell_type": "code",
   "execution_count": 4,
   "id": "increased-hammer",
   "metadata": {},
   "outputs": [
    {
     "name": "stdout",
     "output_type": "stream",
     "text": [
      "(53, 5) (53,)\n",
      "(13, 5) (13,)\n"
     ]
    }
   ],
   "source": [
    "series = pd.Series(np.ones(df.shape[0]))\n",
    "df = pd.concat([series, df], axis=1)\n",
    "\n",
    "train_x = df.sample(frac=0.8)\n",
    "test_x = df.drop(train_x.index)\n",
    "\n",
    "train_y = train_x.Gender\n",
    "train_x = train_x.loc[:,train_x.columns[: -1]]\n",
    "train_x = train_x.to_numpy()\n",
    "train_y = train_y.to_numpy()\n",
    "\n",
    "test_y = test_x.Gender\n",
    "test_x = test_x.loc[:,test_x.columns[: -1]]\n",
    "test_x = test_x.to_numpy()\n",
    "test_y = test_y.to_numpy()\n",
    "\n",
    "print(train_x.shape, train_y.shape)\n",
    "print(test_x.shape, test_y.shape)"
   ]
  },
  {
   "cell_type": "markdown",
   "id": "earned-dinner",
   "metadata": {},
   "source": [
    "#### Initializing theta"
   ]
  },
  {
   "cell_type": "code",
   "execution_count": 5,
   "id": "unexpected-sympathy",
   "metadata": {},
   "outputs": [],
   "source": [
    "# theta = np.random.rand(5)\n",
    "theta = [0.55808994, 0.19248718, -0.22750871, -0.2472149, 0.63575857]"
   ]
  },
  {
   "cell_type": "markdown",
   "id": "classified-italian",
   "metadata": {},
   "source": [
    "#### Sigmoid"
   ]
  },
  {
   "cell_type": "code",
   "execution_count": 6,
   "id": "dated-theology",
   "metadata": {},
   "outputs": [],
   "source": [
    "def sigmoid(z):\n",
    "    return (1 / (1 + np.exp(-z)))"
   ]
  },
  {
   "cell_type": "markdown",
   "id": "african-giant",
   "metadata": {},
   "source": [
    "#### Hypothesis"
   ]
  },
  {
   "cell_type": "code",
   "execution_count": 7,
   "id": "faced-balloon",
   "metadata": {},
   "outputs": [],
   "source": [
    "def hypothesis(x, theta):\n",
    "    return sigmoid(np.matmul(x, theta))"
   ]
  },
  {
   "cell_type": "markdown",
   "id": "discrete-focus",
   "metadata": {},
   "source": [
    "#### Gradient descent"
   ]
  },
  {
   "cell_type": "code",
   "execution_count": 8,
   "id": "elegant-daughter",
   "metadata": {},
   "outputs": [],
   "source": [
    "def gradient_descent(alpha, m, prediction, actual, X):\n",
    "    return (alpha / m) * np.matmul(X.T, prediction - actual)"
   ]
  },
  {
   "cell_type": "markdown",
   "id": "hispanic-lesbian",
   "metadata": {},
   "source": [
    "#### Train"
   ]
  },
  {
   "cell_type": "code",
   "execution_count": 9,
   "id": "cleared-singapore",
   "metadata": {},
   "outputs": [],
   "source": [
    "def train(alpha, epoch, x, y, theta):\n",
    "    for i in range(0, epoch):\n",
    "        prediction = hypothesis(x, theta)\n",
    "        theta -= gradient_descent(alpha, x.shape[0], prediction, y, x)"
   ]
  },
  {
   "cell_type": "markdown",
   "id": "balanced-pencil",
   "metadata": {},
   "source": [
    "#### Execution"
   ]
  },
  {
   "cell_type": "code",
   "execution_count": 10,
   "id": "numerical-technician",
   "metadata": {},
   "outputs": [],
   "source": [
    "train(0.001, 1000, train_x, train_y, theta)"
   ]
  },
  {
   "cell_type": "markdown",
   "id": "latter-wyoming",
   "metadata": {},
   "source": [
    "#### Evaluation: Confusion matrix"
   ]
  },
  {
   "cell_type": "code",
   "execution_count": 11,
   "id": "relevant-steering",
   "metadata": {},
   "outputs": [
    {
     "name": "stdout",
     "output_type": "stream",
     "text": [
      "              precision    recall  f1-score   support\n",
      "\n",
      "           0       0.71      0.56      0.63         9\n",
      "           1       0.33      0.50      0.40         4\n",
      "\n",
      "    accuracy                           0.54        13\n",
      "   macro avg       0.52      0.53      0.51        13\n",
      "weighted avg       0.60      0.54      0.56        13\n",
      "\n",
      "accuracy: 0.5384615384615384\n"
     ]
    }
   ],
   "source": [
    "y_pred = hypothesis(test_x, theta)\n",
    "for i in range(len(y_pred)):\n",
    "    y_pred[i] = 0 if y_pred[i] < 0.5 else 1\n",
    "print(classification_report(test_y, y_pred))\n",
    "print('accuracy: {}'.format(accuracy_score(test_y, y_pred)))\n",
    "#Acc: 85% | [ 0.55808994  0.19248718 -0.22750871 -0.2472149   0.63575857]"
   ]
  },
  {
   "cell_type": "markdown",
   "id": "sorted-arrow",
   "metadata": {},
   "source": [
    "#### Evaluation: R-squared"
   ]
  },
  {
   "cell_type": "code",
   "execution_count": 12,
   "id": "informed-tennessee",
   "metadata": {},
   "outputs": [
    {
     "name": "stdout",
     "output_type": "stream",
     "text": [
      "R-squared score: -1.1666666666666665\n"
     ]
    }
   ],
   "source": [
    "def r2_score(y_true, y_pred):\n",
    "    rss = np.sum((y_true - y_pred)**2) #rss: residual sum of square | residual(error): y_true - y_pred \n",
    "    tss = np.sum((y_true - y_true.mean())**2) #tss: total sum of square\n",
    "    return 1 - (rss / tss)\n",
    "print('R-squared score: {}'.format(r2_score(test_y, y_pred)))"
   ]
  }
 ],
 "metadata": {
  "kernelspec": {
   "display_name": "Python 3",
   "language": "python",
   "name": "python3"
  },
  "language_info": {
   "codemirror_mode": {
    "name": "ipython",
    "version": 3
   },
   "file_extension": ".py",
   "mimetype": "text/x-python",
   "name": "python",
   "nbconvert_exporter": "python",
   "pygments_lexer": "ipython3",
   "version": "3.9.4"
  }
 },
 "nbformat": 4,
 "nbformat_minor": 5
}
