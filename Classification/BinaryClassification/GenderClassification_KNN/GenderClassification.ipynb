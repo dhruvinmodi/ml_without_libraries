{
 "cells": [
  {
   "cell_type": "markdown",
   "id": "weighted-guard",
   "metadata": {},
   "source": [
    "# Gender classification through KNN"
   ]
  },
  {
   "cell_type": "markdown",
   "id": "earlier-force",
   "metadata": {},
   "source": [
    "## When to use KNN(K-Nearest Neighbours)\n",
    "    - it can be used for classification as well as regression also but mostly it is used for the Classification problems.\n",
    "    - it memorize the training data instead learning. Due to the very same reason, it is also known as a lazy algorithm.\n",
    "    - Majorly used in multiclass classification\n",
    "    - It does not get affected by outliers\n",
    "    - It is computationally extensive because it measures distance with each data point\n",
    "    - It can be used for non-linear dataset also\n",
    "## Assumptions\n",
    "    - No assumption\n",
    "    "
   ]
  },
  {
   "cell_type": "code",
   "execution_count": 1,
   "id": "nuclear-furniture",
   "metadata": {},
   "outputs": [],
   "source": [
    "import pandas as pd\n",
    "import numpy as np\n",
    "import pprint as pp\n",
    "import math\n",
    "from sklearn.metrics import classification_report"
   ]
  },
  {
   "cell_type": "markdown",
   "id": "green-proof",
   "metadata": {},
   "source": [
    "#### Reading dataset"
   ]
  },
  {
   "cell_type": "code",
   "execution_count": 2,
   "id": "severe-interface",
   "metadata": {},
   "outputs": [
    {
     "data": {
      "text/html": [
       "<div>\n",
       "<style scoped>\n",
       "    .dataframe tbody tr th:only-of-type {\n",
       "        vertical-align: middle;\n",
       "    }\n",
       "\n",
       "    .dataframe tbody tr th {\n",
       "        vertical-align: top;\n",
       "    }\n",
       "\n",
       "    .dataframe thead th {\n",
       "        text-align: right;\n",
       "    }\n",
       "</style>\n",
       "<table border=\"1\" class=\"dataframe\">\n",
       "  <thead>\n",
       "    <tr style=\"text-align: right;\">\n",
       "      <th></th>\n",
       "      <th>Favorite Color</th>\n",
       "      <th>Favorite Music Genre</th>\n",
       "      <th>Favorite Beverage</th>\n",
       "      <th>Favorite Soft Drink</th>\n",
       "      <th>Gender</th>\n",
       "    </tr>\n",
       "  </thead>\n",
       "  <tbody>\n",
       "    <tr>\n",
       "      <th>0</th>\n",
       "      <td>Cool</td>\n",
       "      <td>Rock</td>\n",
       "      <td>Vodka</td>\n",
       "      <td>7UP/Sprite</td>\n",
       "      <td>F</td>\n",
       "    </tr>\n",
       "    <tr>\n",
       "      <th>1</th>\n",
       "      <td>Neutral</td>\n",
       "      <td>Hip hop</td>\n",
       "      <td>Vodka</td>\n",
       "      <td>Coca Cola/Pepsi</td>\n",
       "      <td>F</td>\n",
       "    </tr>\n",
       "    <tr>\n",
       "      <th>2</th>\n",
       "      <td>Warm</td>\n",
       "      <td>Rock</td>\n",
       "      <td>Wine</td>\n",
       "      <td>Coca Cola/Pepsi</td>\n",
       "      <td>F</td>\n",
       "    </tr>\n",
       "    <tr>\n",
       "      <th>3</th>\n",
       "      <td>Warm</td>\n",
       "      <td>Folk/Traditional</td>\n",
       "      <td>Whiskey</td>\n",
       "      <td>Fanta</td>\n",
       "      <td>F</td>\n",
       "    </tr>\n",
       "    <tr>\n",
       "      <th>4</th>\n",
       "      <td>Cool</td>\n",
       "      <td>Rock</td>\n",
       "      <td>Vodka</td>\n",
       "      <td>Coca Cola/Pepsi</td>\n",
       "      <td>F</td>\n",
       "    </tr>\n",
       "  </tbody>\n",
       "</table>\n",
       "</div>"
      ],
      "text/plain": [
       "  Favorite Color Favorite Music Genre Favorite Beverage Favorite Soft Drink  \\\n",
       "0           Cool                 Rock             Vodka          7UP/Sprite   \n",
       "1        Neutral              Hip hop             Vodka     Coca Cola/Pepsi   \n",
       "2           Warm                 Rock              Wine     Coca Cola/Pepsi   \n",
       "3           Warm     Folk/Traditional           Whiskey               Fanta   \n",
       "4           Cool                 Rock             Vodka     Coca Cola/Pepsi   \n",
       "\n",
       "  Gender  \n",
       "0      F  \n",
       "1      F  \n",
       "2      F  \n",
       "3      F  \n",
       "4      F  "
      ]
     },
     "execution_count": 2,
     "metadata": {},
     "output_type": "execute_result"
    }
   ],
   "source": [
    "df = pd.read_csv('./dataset/dataset.csv')\n",
    "df.head()"
   ]
  },
  {
   "cell_type": "markdown",
   "id": "settled-integral",
   "metadata": {},
   "source": [
    "#### Dataset encoding"
   ]
  },
  {
   "cell_type": "code",
   "execution_count": 3,
   "id": "stunning-weather",
   "metadata": {},
   "outputs": [
    {
     "name": "stdout",
     "output_type": "stream",
     "text": [
      "{0: 'Cool', 1: 'Neutral', 2: 'Warm'}\n",
      "{0: 'Electronic',\n",
      " 1: 'Folk/Traditional',\n",
      " 2: 'Hip hop',\n",
      " 3: 'Jazz/Blues',\n",
      " 4: 'Pop',\n",
      " 5: 'R&B and soul',\n",
      " 6: 'Rock'}\n",
      "{0: 'Beer', 1: \"Doesn't drink\", 2: 'Other', 3: 'Vodka', 4: 'Whiskey', 5: 'Wine'}\n",
      "{0: '7UP/Sprite', 1: 'Coca Cola/Pepsi', 2: 'Fanta', 3: 'Other'}\n",
      "{0: 'F', 1: 'M'}\n"
     ]
    },
    {
     "data": {
      "text/html": [
       "<div>\n",
       "<style scoped>\n",
       "    .dataframe tbody tr th:only-of-type {\n",
       "        vertical-align: middle;\n",
       "    }\n",
       "\n",
       "    .dataframe tbody tr th {\n",
       "        vertical-align: top;\n",
       "    }\n",
       "\n",
       "    .dataframe thead th {\n",
       "        text-align: right;\n",
       "    }\n",
       "</style>\n",
       "<table border=\"1\" class=\"dataframe\">\n",
       "  <thead>\n",
       "    <tr style=\"text-align: right;\">\n",
       "      <th></th>\n",
       "      <th>Favorite Color</th>\n",
       "      <th>Favorite Music Genre</th>\n",
       "      <th>Favorite Beverage</th>\n",
       "      <th>Favorite Soft Drink</th>\n",
       "      <th>Gender</th>\n",
       "    </tr>\n",
       "  </thead>\n",
       "  <tbody>\n",
       "    <tr>\n",
       "      <th>0</th>\n",
       "      <td>0</td>\n",
       "      <td>6</td>\n",
       "      <td>3</td>\n",
       "      <td>0</td>\n",
       "      <td>0</td>\n",
       "    </tr>\n",
       "    <tr>\n",
       "      <th>1</th>\n",
       "      <td>1</td>\n",
       "      <td>2</td>\n",
       "      <td>3</td>\n",
       "      <td>1</td>\n",
       "      <td>0</td>\n",
       "    </tr>\n",
       "    <tr>\n",
       "      <th>2</th>\n",
       "      <td>2</td>\n",
       "      <td>6</td>\n",
       "      <td>5</td>\n",
       "      <td>1</td>\n",
       "      <td>0</td>\n",
       "    </tr>\n",
       "    <tr>\n",
       "      <th>3</th>\n",
       "      <td>2</td>\n",
       "      <td>1</td>\n",
       "      <td>4</td>\n",
       "      <td>2</td>\n",
       "      <td>0</td>\n",
       "    </tr>\n",
       "    <tr>\n",
       "      <th>4</th>\n",
       "      <td>0</td>\n",
       "      <td>6</td>\n",
       "      <td>3</td>\n",
       "      <td>1</td>\n",
       "      <td>0</td>\n",
       "    </tr>\n",
       "  </tbody>\n",
       "</table>\n",
       "</div>"
      ],
      "text/plain": [
       "   Favorite Color  Favorite Music Genre  Favorite Beverage  \\\n",
       "0               0                     6                  3   \n",
       "1               1                     2                  3   \n",
       "2               2                     6                  5   \n",
       "3               2                     1                  4   \n",
       "4               0                     6                  3   \n",
       "\n",
       "   Favorite Soft Drink  Gender  \n",
       "0                    0       0  \n",
       "1                    1       0  \n",
       "2                    1       0  \n",
       "3                    2       0  \n",
       "4                    1       0  "
      ]
     },
     "execution_count": 3,
     "metadata": {},
     "output_type": "execute_result"
    }
   ],
   "source": [
    "df = df.astype('category')\n",
    "for each_column in df.columns:\n",
    "    pp.pprint(dict(enumerate(df[each_column].cat.categories)))\n",
    "    df[each_column] = df[each_column].cat.codes\n",
    "df.head()"
   ]
  },
  {
   "cell_type": "markdown",
   "id": "minute-equation",
   "metadata": {},
   "source": [
    "#### Spliting dataset"
   ]
  },
  {
   "cell_type": "code",
   "execution_count": 4,
   "id": "upset-rehabilitation",
   "metadata": {},
   "outputs": [
    {
     "name": "stdout",
     "output_type": "stream",
     "text": [
      "x_train: (66, 4)\n",
      "y_train: (66,)\n",
      "[[0, 0, 0, 1], [0, 4, 5, 0], [0, 0, 2, 2], [1, 6, 1, 1], [2, 0, 5, 1], [2, 6, 2, 1], [0, 6, 1, 1], [0, 5, 0, 1], [2, 3, 5, 1], [0, 0, 1, 2], [0, 6, 3, 1], [1, 6, 0, 1], [1, 2, 3, 1], [2, 0, 3, 2], [0, 4, 1, 0], [0, 4, 0, 3], [2, 3, 4, 2], [0, 0, 1, 2], [2, 4, 2, 1], [0, 2, 0, 1], [0, 4, 1, 1], [0, 6, 5, 0], [0, 6, 3, 0], [0, 6, 1, 3], [0, 1, 0, 3], [2, 3, 3, 1], [0, 5, 1, 1], [0, 6, 3, 1], [2, 6, 2, 0], [0, 5, 4, 0], [0, 2, 5, 1], [0, 6, 0, 1], [2, 5, 4, 1], [2, 6, 0, 2], [0, 4, 2, 2], [2, 6, 3, 0], [0, 6, 2, 1], [2, 4, 4, 2], [0, 2, 0, 1], [1, 4, 5, 1], [2, 2, 0, 1], [2, 3, 1, 2], [2, 5, 5, 3], [2, 4, 2, 0], [2, 4, 5, 0], [2, 6, 5, 1], [2, 5, 1, 1], [2, 0, 2, 1], [0, 1, 4, 0], [0, 0, 4, 1], [0, 2, 1, 3], [0, 4, 0, 1], [0, 4, 2, 0], [1, 2, 0, 0], [0, 6, 2, 1], [0, 4, 1, 3], [0, 6, 3, 1], [0, 4, 4, 3], [0, 4, 4, 2], [2, 1, 4, 2], [2, 1, 2, 2], [0, 6, 3, 1], [0, 6, 5, 1], [1, 4, 1, 0], [1, 2, 1, 2], [0, 4, 0, 2]]\n",
      "[1, 0, 1, 1, 0, 0, 1, 0, 0, 1, 0, 0, 0, 1, 0, 0, 0, 0, 0, 1, 0, 1, 0, 1, 1, 1, 1, 1, 0, 1, 1, 0, 0, 1, 1, 1, 0, 0, 1, 0, 1, 0, 1, 0, 0, 0, 1, 1, 0, 1, 1, 0, 0, 1, 0, 0, 0, 1, 1, 0, 1, 1, 1, 1, 1, 0]\n"
     ]
    }
   ],
   "source": [
    "df_train = df.sample(frac=1)\n",
    "x_train = df_train.values[: , :-1]\n",
    "y_train = df_train.values[:, -1]\n",
    "\n",
    "print ('x_train: {}\\ny_train: {}'.format(x_train.shape, y_train.shape))\n",
    "\n",
    "x_train = x_train.tolist()\n",
    "y_train = y_train.tolist()\n",
    "\n",
    "print(x_train)\n",
    "print(y_train)"
   ]
  },
  {
   "cell_type": "markdown",
   "id": "correct-vessel",
   "metadata": {},
   "source": [
    "#### Logic for calculating distance"
   ]
  },
  {
   "cell_type": "code",
   "execution_count": 5,
   "id": "adverse-improvement",
   "metadata": {},
   "outputs": [],
   "source": [
    "def get_distances_label(input_param, x, y, k):\n",
    "    distances, label = [],[]\n",
    "    used_index = []\n",
    "    for i in range(k):\n",
    "        min_distance = None\n",
    "        min_index = 0\n",
    "        for each_row, j in zip(x, range(len(x))):\n",
    "            if(j in used_index):continue\n",
    "            distance = 0\n",
    "            for x1,x2 in zip(each_row, input_param):\n",
    "                distance += (x1 - x2)**2\n",
    "            distance = math.sqrt(distance)\n",
    "            if(min_distance == None or min_distance > distance): \n",
    "                min_distance = distance\n",
    "                min_index = j\n",
    "        used_index.append(min_index)\n",
    "        distances.append(min_distance)\n",
    "        label.append(y[used_index[-1]])\n",
    "#       distance = np.sqrt(sum((each_row - input_param)**2)) #numpy formula\n",
    "    return distances,label"
   ]
  },
  {
   "cell_type": "markdown",
   "id": "united-binary",
   "metadata": {},
   "source": [
    "#### prediction"
   ]
  },
  {
   "cell_type": "code",
   "execution_count": 6,
   "id": "cooperative-resident",
   "metadata": {},
   "outputs": [],
   "source": [
    "def predict(input_param, x, y, k=9):\n",
    "    d, l = get_distances_label(input_param, x, y, k)\n",
    "    if sum(l) > k / 2 : return 'M'\n",
    "    else: return 'F'\n",
    "    "
   ]
  },
  {
   "cell_type": "code",
   "execution_count": 7,
   "id": "strong-cover",
   "metadata": {},
   "outputs": [
    {
     "name": "stdout",
     "output_type": "stream",
     "text": [
      "Predicted class is F\n"
     ]
    }
   ],
   "source": [
    "predicted_class = predict([2, 3, 5, 1], x_train, y_train)\n",
    "print('Predicted class is {}'.format(predicted_class))"
   ]
  },
  {
   "cell_type": "markdown",
   "id": "unique-peace",
   "metadata": {},
   "source": [
    "#### Evaluation"
   ]
  },
  {
   "cell_type": "code",
   "execution_count": 8,
   "id": "adult-petersburg",
   "metadata": {},
   "outputs": [
    {
     "name": "stdout",
     "output_type": "stream",
     "text": [
      "              precision    recall  f1-score   support\n",
      "\n",
      "           0       0.66      0.88      0.75        33\n",
      "           1       0.82      0.55      0.65        33\n",
      "\n",
      "    accuracy                           0.71        66\n",
      "   macro avg       0.74      0.71      0.70        66\n",
      "weighted avg       0.74      0.71      0.70        66\n",
      "\n"
     ]
    }
   ],
   "source": [
    "y_pred = []\n",
    "for each in x_train:\n",
    "    y_pred.append(0 if predict(each, x_train, y_train) == 'F' else 1)\n",
    "print(classification_report(y_train, y_pred))"
   ]
  },
  {
   "cell_type": "code",
   "execution_count": null,
   "id": "aboriginal-jungle",
   "metadata": {},
   "outputs": [],
   "source": []
  }
 ],
 "metadata": {
  "kernelspec": {
   "display_name": "Python 3",
   "language": "python",
   "name": "python3"
  },
  "language_info": {
   "codemirror_mode": {
    "name": "ipython",
    "version": 3
   },
   "file_extension": ".py",
   "mimetype": "text/x-python",
   "name": "python",
   "nbconvert_exporter": "python",
   "pygments_lexer": "ipython3",
   "version": "3.9.4"
  }
 },
 "nbformat": 4,
 "nbformat_minor": 5
}
